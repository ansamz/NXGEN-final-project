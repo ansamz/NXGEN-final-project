{
  "nbformat": 4,
  "nbformat_minor": 0,
  "metadata": {
    "colab": {
      "name": "AZ Diseases and birth prediction in Switzerland.ipynb",
      "provenance": [],
      "collapsed_sections": []
    },
    "kernelspec": {
      "name": "python3",
      "display_name": "Python 3"
    },
    "language_info": {
      "name": "python"
    }
  },
  "cells": [
    {
      "cell_type": "code",
      "execution_count": null,
      "metadata": {
        "colab": {
          "base_uri": "https://localhost:8080/"
        },
        "id": "4jLxt6D1iSWo",
        "outputId": "0f9aa636-607e-472d-9809-46f06572d50e"
      },
      "outputs": [
        {
          "output_type": "stream",
          "name": "stdout",
          "text": [
            "Mounted at /content/drive\n"
          ]
        }
      ],
      "source": [
        "from google.colab import drive\n",
        "drive.mount('/content/drive')"
      ]
    },
    {
      "cell_type": "code",
      "source": [
        "#import libraries\n",
        "\n",
        "import pandas as pd\n",
        "import numpy as np\n",
        "%matplotlib inline\n",
        "import seaborn as sns\n",
        "import matplotlib.pyplot as plt\n",
        "from matplotlib import rcParams\n",
        "import seaborn as sns\n",
        "\n",
        "import statsmodels.api as sm\n",
        "import scipy.stats as st\n"
      ],
      "metadata": {
        "id": "TCbPT_X7iF8j",
        "colab": {
          "base_uri": "https://localhost:8080/"
        },
        "outputId": "f698ede2-615d-43bc-b7f1-b5755146d148"
      },
      "execution_count": null,
      "outputs": [
        {
          "output_type": "stream",
          "name": "stderr",
          "text": [
            "/usr/local/lib/python3.7/dist-packages/statsmodels/tools/_testing.py:19: FutureWarning: pandas.util.testing is deprecated. Use the functions in the public API at pandas.testing instead.\n",
            "  import pandas.util.testing as tm\n"
          ]
        }
      ]
    },
    {
      "cell_type": "code",
      "source": [
        "pd.options.display.float_format = '{:.4f}'.format\n",
        "np.set_printoptions(suppress=True)\n",
        "\n",
        "plt.rcParams[\"figure.figsize\"] = (12, 6)  # Change matplotlib Box Size \n",
        "#if we don't set these we will get scientific notations\n",
        "plt.rcParams[\"font.size\"] = 14  # Change matplotlib Font Size\n",
        "plt.style.use(\"seaborn\")"
      ],
      "metadata": {
        "id": "VsKDArFt96gC"
      },
      "execution_count": null,
      "outputs": []
    },
    {
      "cell_type": "code",
      "source": [
        "avg_cdeliv = pd.read_csv('/content/drive/MyDrive/Colab Notebooks/Medico Final Project/Medico Data/Processed data/Merged files for presentation/avg_cdeliv.csv')\n",
        "num_deliv = pd.read_csv('/content/drive/MyDrive/Colab Notebooks/Medico Final Project/Medico Data/Processed data/Merged files for presentation/num_deliv.csv')\n",
        "text_files_data = pd.read_csv('/content/drive/MyDrive/Colab Notebooks/Medico Final Project/Medico Data/Processed data/Merged files for presentation/text_files_data.csv')"
      ],
      "metadata": {
        "id": "vuJfARQ6ibkq"
      },
      "execution_count": null,
      "outputs": []
    },
    {
      "cell_type": "code",
      "source": [
        "#functions and processing\n",
        "\n",
        "#add canton name\n",
        "cantons_dict = {'TG':'Thurgau', 'GR':'Graubünden', 'LU':'Luzern', 'BE':'Bern', 'VS':'Valais', \n",
        "                'BL':'Basel-Landschaft', 'SO':'Solothurn', 'VD':'Vaud', 'SH':'Schaffhausen', 'ZH':'Zürich', \n",
        "                'AG':'Aargau', 'UR':'Uri', 'NE':'Neuchâtel', 'TI':'Ticino', 'SG':'St. Gallen', 'GE':'Genève', \n",
        "                'GL':'Glarus', 'JU':'Jura', 'ZG':'Zug', 'OW':'Obwalden', 'FR':'Fribourg', 'SZ':'Schwyz', \n",
        "                'AR':'Appenzell Ausserrhoden', 'AI':'Appenzell Innerrhoden', 'NW':'Nidwalden', 'BS':'Basel-Stadt'}\n",
        "\n",
        "\n",
        "avg_cdeliv[\"canton_name\"] = avg_cdeliv[\"Canton of patients\"].map(cantons_dict)\n",
        "num_deliv[\"canton_name\"] = num_deliv[\"Canton\"].map(cantons_dict)"
      ],
      "metadata": {
        "id": "YxyxXPLajX28"
      },
      "execution_count": null,
      "outputs": []
    },
    {
      "cell_type": "code",
      "source": [
        "text_files_data = text_files_data.drop(columns=['sex'])"
      ],
      "metadata": {
        "id": "fP24i0zFvNGT"
      },
      "execution_count": null,
      "outputs": []
    },
    {
      "cell_type": "markdown",
      "source": [
        "# Disease Data"
      ],
      "metadata": {
        "id": "eZUN4ARliSQ6"
      }
    },
    {
      "cell_type": "code",
      "source": [
        "text_files_data.iloc[:, 2:6] = text_files_data.iloc[:, 2:6].replace([np.nan, '*', '-', ' ', '', 'None', 'True', 'False', None], 0)"
      ],
      "metadata": {
        "id": "NCCPT_fGmnJi"
      },
      "execution_count": null,
      "outputs": []
    },
    {
      "cell_type": "code",
      "source": [
        "# text_files_data['year'] = text_files_data['year'].astype(str)\n",
        "\n",
        "# import datetime\n",
        "# text_files_data['year'] = pd.to_datetime(text_files_data.year, format='%Y')"
      ],
      "metadata": {
        "id": "diY5z-olxXV1"
      },
      "execution_count": null,
      "outputs": []
    },
    {
      "cell_type": "code",
      "source": [
        "text_files_data.head()"
      ],
      "metadata": {
        "colab": {
          "base_uri": "https://localhost:8080/",
          "height": 206
        },
        "id": "FfiXa1KViRdc",
        "outputId": "007546de-bdd3-43e5-f4e0-7703a6a3a432"
      },
      "execution_count": null,
      "outputs": [
        {
          "output_type": "execute_result",
          "data": {
            "text/plain": [
              "                                           diagnosis  year  altegrp  casesch  \\\n",
              "0  A7_07_M Isolated open aortic valve replacement...  2008   0.0000 559.0000   \n",
              "1  A7_07_M Isolated open aortic valve replacement...  2009   0.0000 699.0000   \n",
              "2  A7_07_M Isolated open aortic valve replacement...  2010   0.0000 789.0000   \n",
              "3  A7_07_M Isolated open aortic valve replacement...  2011   0.0000 904.0000   \n",
              "4  A7_07_M Isolated open aortic valve replacement...  2012   0.0000 902.0000   \n",
              "\n",
              "   deathch    pch     age     code disease_group  \n",
              "0  18.0000 3.2200  19-100  A7_07_M       cardiac  \n",
              "1  19.0000 2.7182  19-100  A7_07_M       cardiac  \n",
              "2  14.0000 1.7744  19-100  A7_07_M       cardiac  \n",
              "3  23.0000 2.5442  19-100  A7_07_M       cardiac  \n",
              "4  22.0000 2.4390  19-100  A7_07_M       cardiac  "
            ],
            "text/html": [
              "\n",
              "  <div id=\"df-28b413a2-f009-4a5b-b208-fae4721800e7\">\n",
              "    <div class=\"colab-df-container\">\n",
              "      <div>\n",
              "<style scoped>\n",
              "    .dataframe tbody tr th:only-of-type {\n",
              "        vertical-align: middle;\n",
              "    }\n",
              "\n",
              "    .dataframe tbody tr th {\n",
              "        vertical-align: top;\n",
              "    }\n",
              "\n",
              "    .dataframe thead th {\n",
              "        text-align: right;\n",
              "    }\n",
              "</style>\n",
              "<table border=\"1\" class=\"dataframe\">\n",
              "  <thead>\n",
              "    <tr style=\"text-align: right;\">\n",
              "      <th></th>\n",
              "      <th>diagnosis</th>\n",
              "      <th>year</th>\n",
              "      <th>altegrp</th>\n",
              "      <th>casesch</th>\n",
              "      <th>deathch</th>\n",
              "      <th>pch</th>\n",
              "      <th>age</th>\n",
              "      <th>code</th>\n",
              "      <th>disease_group</th>\n",
              "    </tr>\n",
              "  </thead>\n",
              "  <tbody>\n",
              "    <tr>\n",
              "      <th>0</th>\n",
              "      <td>A7_07_M Isolated open aortic valve replacement...</td>\n",
              "      <td>2008</td>\n",
              "      <td>0.0000</td>\n",
              "      <td>559.0000</td>\n",
              "      <td>18.0000</td>\n",
              "      <td>3.2200</td>\n",
              "      <td>19-100</td>\n",
              "      <td>A7_07_M</td>\n",
              "      <td>cardiac</td>\n",
              "    </tr>\n",
              "    <tr>\n",
              "      <th>1</th>\n",
              "      <td>A7_07_M Isolated open aortic valve replacement...</td>\n",
              "      <td>2009</td>\n",
              "      <td>0.0000</td>\n",
              "      <td>699.0000</td>\n",
              "      <td>19.0000</td>\n",
              "      <td>2.7182</td>\n",
              "      <td>19-100</td>\n",
              "      <td>A7_07_M</td>\n",
              "      <td>cardiac</td>\n",
              "    </tr>\n",
              "    <tr>\n",
              "      <th>2</th>\n",
              "      <td>A7_07_M Isolated open aortic valve replacement...</td>\n",
              "      <td>2010</td>\n",
              "      <td>0.0000</td>\n",
              "      <td>789.0000</td>\n",
              "      <td>14.0000</td>\n",
              "      <td>1.7744</td>\n",
              "      <td>19-100</td>\n",
              "      <td>A7_07_M</td>\n",
              "      <td>cardiac</td>\n",
              "    </tr>\n",
              "    <tr>\n",
              "      <th>3</th>\n",
              "      <td>A7_07_M Isolated open aortic valve replacement...</td>\n",
              "      <td>2011</td>\n",
              "      <td>0.0000</td>\n",
              "      <td>904.0000</td>\n",
              "      <td>23.0000</td>\n",
              "      <td>2.5442</td>\n",
              "      <td>19-100</td>\n",
              "      <td>A7_07_M</td>\n",
              "      <td>cardiac</td>\n",
              "    </tr>\n",
              "    <tr>\n",
              "      <th>4</th>\n",
              "      <td>A7_07_M Isolated open aortic valve replacement...</td>\n",
              "      <td>2012</td>\n",
              "      <td>0.0000</td>\n",
              "      <td>902.0000</td>\n",
              "      <td>22.0000</td>\n",
              "      <td>2.4390</td>\n",
              "      <td>19-100</td>\n",
              "      <td>A7_07_M</td>\n",
              "      <td>cardiac</td>\n",
              "    </tr>\n",
              "  </tbody>\n",
              "</table>\n",
              "</div>\n",
              "      <button class=\"colab-df-convert\" onclick=\"convertToInteractive('df-28b413a2-f009-4a5b-b208-fae4721800e7')\"\n",
              "              title=\"Convert this dataframe to an interactive table.\"\n",
              "              style=\"display:none;\">\n",
              "        \n",
              "  <svg xmlns=\"http://www.w3.org/2000/svg\" height=\"24px\"viewBox=\"0 0 24 24\"\n",
              "       width=\"24px\">\n",
              "    <path d=\"M0 0h24v24H0V0z\" fill=\"none\"/>\n",
              "    <path d=\"M18.56 5.44l.94 2.06.94-2.06 2.06-.94-2.06-.94-.94-2.06-.94 2.06-2.06.94zm-11 1L8.5 8.5l.94-2.06 2.06-.94-2.06-.94L8.5 2.5l-.94 2.06-2.06.94zm10 10l.94 2.06.94-2.06 2.06-.94-2.06-.94-.94-2.06-.94 2.06-2.06.94z\"/><path d=\"M17.41 7.96l-1.37-1.37c-.4-.4-.92-.59-1.43-.59-.52 0-1.04.2-1.43.59L10.3 9.45l-7.72 7.72c-.78.78-.78 2.05 0 2.83L4 21.41c.39.39.9.59 1.41.59.51 0 1.02-.2 1.41-.59l7.78-7.78 2.81-2.81c.8-.78.8-2.07 0-2.86zM5.41 20L4 18.59l7.72-7.72 1.47 1.35L5.41 20z\"/>\n",
              "  </svg>\n",
              "      </button>\n",
              "      \n",
              "  <style>\n",
              "    .colab-df-container {\n",
              "      display:flex;\n",
              "      flex-wrap:wrap;\n",
              "      gap: 12px;\n",
              "    }\n",
              "\n",
              "    .colab-df-convert {\n",
              "      background-color: #E8F0FE;\n",
              "      border: none;\n",
              "      border-radius: 50%;\n",
              "      cursor: pointer;\n",
              "      display: none;\n",
              "      fill: #1967D2;\n",
              "      height: 32px;\n",
              "      padding: 0 0 0 0;\n",
              "      width: 32px;\n",
              "    }\n",
              "\n",
              "    .colab-df-convert:hover {\n",
              "      background-color: #E2EBFA;\n",
              "      box-shadow: 0px 1px 2px rgba(60, 64, 67, 0.3), 0px 1px 3px 1px rgba(60, 64, 67, 0.15);\n",
              "      fill: #174EA6;\n",
              "    }\n",
              "\n",
              "    [theme=dark] .colab-df-convert {\n",
              "      background-color: #3B4455;\n",
              "      fill: #D2E3FC;\n",
              "    }\n",
              "\n",
              "    [theme=dark] .colab-df-convert:hover {\n",
              "      background-color: #434B5C;\n",
              "      box-shadow: 0px 1px 3px 1px rgba(0, 0, 0, 0.15);\n",
              "      filter: drop-shadow(0px 1px 2px rgba(0, 0, 0, 0.3));\n",
              "      fill: #FFFFFF;\n",
              "    }\n",
              "  </style>\n",
              "\n",
              "      <script>\n",
              "        const buttonEl =\n",
              "          document.querySelector('#df-28b413a2-f009-4a5b-b208-fae4721800e7 button.colab-df-convert');\n",
              "        buttonEl.style.display =\n",
              "          google.colab.kernel.accessAllowed ? 'block' : 'none';\n",
              "\n",
              "        async function convertToInteractive(key) {\n",
              "          const element = document.querySelector('#df-28b413a2-f009-4a5b-b208-fae4721800e7');\n",
              "          const dataTable =\n",
              "            await google.colab.kernel.invokeFunction('convertToInteractive',\n",
              "                                                     [key], {});\n",
              "          if (!dataTable) return;\n",
              "\n",
              "          const docLinkHtml = 'Like what you see? Visit the ' +\n",
              "            '<a target=\"_blank\" href=https://colab.research.google.com/notebooks/data_table.ipynb>data table notebook</a>'\n",
              "            + ' to learn more about interactive tables.';\n",
              "          element.innerHTML = '';\n",
              "          dataTable['output_type'] = 'display_data';\n",
              "          await google.colab.output.renderOutput(dataTable, element);\n",
              "          const docLink = document.createElement('div');\n",
              "          docLink.innerHTML = docLinkHtml;\n",
              "          element.appendChild(docLink);\n",
              "        }\n",
              "      </script>\n",
              "    </div>\n",
              "  </div>\n",
              "  "
            ]
          },
          "metadata": {},
          "execution_count": 10
        }
      ]
    },
    {
      "cell_type": "code",
      "source": [
        "urinary = text_files_data[text_files_data['disease_group'] == 'Diseases of the urinary tract and male genitalia']\n",
        "bone = text_files_data[text_files_data['disease_group'] == 'Diseases of the bones, joints, connective tissues']\n",
        "specialized_medicine = text_files_data[text_files_data['disease_group'] == 'Highly specialized medicine']\n",
        "cardiac = text_files_data[text_files_data['disease_group'] == 'cardiac']\n",
        "nervous = text_files_data[text_files_data['disease_group'] == 'Nervous system, cerebrovascular accident (stroke)']\n",
        "lung = text_files_data[text_files_data['disease_group'] == 'Lung diseases']\n",
        "gynecology = text_files_data[text_files_data['disease_group'] == 'Gynecology and obstetrics']\n",
        "abdominal = text_files_data[text_files_data['disease_group'] == 'Abdominal organs disease']\n",
        "vascular = text_files_data[text_files_data['disease_group'] == 'Vascular Diseases']\n",
        "skin = text_files_data[text_files_data['disease_group'] == 'Skin disorders']\n",
        "geriatric = text_files_data[text_files_data['disease_group'] == 'Geriatric Medicine']\n",
        "palliative = text_files_data[text_files_data['disease_group'] == 'Palliative Medicine']\n"
      ],
      "metadata": {
        "id": "5IzVGmoPnFHz"
      },
      "execution_count": null,
      "outputs": []
    },
    {
      "cell_type": "code",
      "source": [
        "def corr_annot(x, y, ax=None, **kws):\n",
        "    \"\"\"Annotate a plot w/ the correlation coefficient.\"\"\"\n",
        "    r, _ = st.pearsonr(x, y)\n",
        "    ax = ax or plt.gca()\n",
        "    fontsizes = {range(0,21):\"medium\", range(21,51):'large', range(51,81):'x-large', range(90,101):'xx-large'}\n",
        "\n",
        "    if r > 0:\n",
        "        font_size = [fontsize for bound,fontsize in fontsizes.items() if round(abs(r), 1)*100 in bound][0]\n",
        "        ax.annotate(f'ρ = {r:.2f}', xy=(.1, .9), xycoords=ax.transAxes, fontsize = font_size)"
      ],
      "metadata": {
        "id": "wAP3DtL_ow4F"
      },
      "execution_count": null,
      "outputs": []
    },
    {
      "cell_type": "code",
      "source": [
        "urinary_y = urinary.groupby(by='year').sum().reset_index()\n",
        "bone_y = bone.groupby(by='year').sum().reset_index()\n",
        "specialized_medicine_y = specialized_medicine.groupby(by='year').sum().reset_index()\n",
        "cardiac_y = cardiac.groupby(by='year').sum().reset_index()\n",
        "nervous_y = nervous.groupby(by='year').sum().reset_index()\n",
        "lung_y = lung.groupby(by='year').sum().reset_index()\n",
        "gynecology_y = gynecology.groupby(by='year').sum().reset_index()\n",
        "abdominal_y = abdominal.groupby(by='year').sum().reset_index()\n",
        "vascular_y = vascular.groupby(by='year').sum().reset_index()\n",
        "skin_y = skin.groupby(by='year').sum().reset_index()\n",
        "geriatric_y = geriatric.groupby(by='year').sum().reset_index()\n",
        "palliative_y = palliative.groupby(by='year').sum().reset_index()"
      ],
      "metadata": {
        "id": "Vpy3_aSupCSf"
      },
      "execution_count": null,
      "outputs": []
    },
    {
      "cell_type": "markdown",
      "source": [
        "# Linear regression"
      ],
      "metadata": {
        "id": "h-C0x0zUqxaL"
      }
    },
    {
      "cell_type": "code",
      "source": [
        "year = urinary_y['year'].values\n",
        "cases = urinary_y['casesch'].values\n",
        "n = np.size(year)\n",
        "\n",
        "plt.scatter(year, cases, color = 'red')\n",
        "plt.xlabel(\"Year\")\n",
        "plt.ylabel(\"Number of cases of urinary infection\")\n",
        "plt.show()"
      ],
      "metadata": {
        "colab": {
          "base_uri": "https://localhost:8080/",
          "height": 361
        },
        "id": "XfGpucoxqvpt",
        "outputId": "5043fe57-4c0c-4d2a-cfc5-ed56a8599339"
      },
      "execution_count": null,
      "outputs": [
        {
          "output_type": "display_data",
          "data": {
            "text/plain": [
              "<Figure size 576x396 with 1 Axes>"
            ],
            "image/png": "[encoded data removed]"
          },
          "metadata": {}
        }
      ]
    },
    {
      "cell_type": "code",
      "source": [
        "sns.regplot(data = urinary_y, x = \"year\", y = \"casesch\", lowess=False).set(title='cases number ~ year');"
      ],
      "metadata": {
        "colab": {
          "base_uri": "https://localhost:8080/",
          "height": 375
        },
        "id": "xGnN4KVNlizV",
        "outputId": "da3861c9-8f9e-4d67-955c-19891008df78"
      },
      "execution_count": null,
      "outputs": [
        {
          "output_type": "display_data",
          "data": {
            "text/plain": [
              "<Figure size 576x396 with 1 Axes>"
            ],
            "image/png": "[encoded data removed]"
          },
          "metadata": {}
        }
      ]
    },
    {
      "cell_type": "code",
      "source": [
        "fig, axes = plt.subplots(ncols=4, figsize = (16,8));\n",
        "fig.tight_layout(pad = 4)\n",
        "\n",
        "sns.boxplot(y='casesch', data=urinary_y, ax=axes[0]).set(title = \"Number of cases of urinary infection\", ylabel = None)\n",
        "sns.boxplot(y='casesch', data=cardiac_y, ax=axes[1]).set(title = \"Number of cases of cardiac diseases\", ylabel = None)\n",
        "sns.boxplot(y='casesch', data=nervous_y, ax=axes[2]).set(title = \"Number of nervous system illnesses\", ylabel = None)\n",
        "sns.boxplot(y='casesch', data=gynecology_y, ax=axes[3]).set(title = \"Number of gynecological diseases\", ylabel = None)"
      ],
      "metadata": {
        "colab": {
          "base_uri": "https://localhost:8080/",
          "height": 530
        },
        "id": "EreGSiELltA2",
        "outputId": "190fc368-59ef-4c66-8b6f-7aa3b631c7e1"
      },
      "execution_count": null,
      "outputs": [
        {
          "output_type": "execute_result",
          "data": {
            "text/plain": [
              "[Text(817.7130434782609, 0.5, ''),\n",
              " Text(0.5, 1.0, 'Number of gynecological diseases')]"
            ]
          },
          "metadata": {},
          "execution_count": 17
        },
        {
          "output_type": "display_data",
          "data": {
            "text/plain": [
              "<Figure size 1152x576 with 4 Axes>"
            ],
            "image/png": "[encoded data removed]"
          },
          "metadata": {}
        }
      ]
    },
    {
      "cell_type": "markdown",
      "source": [
        "# Simple linear regression"
      ],
      "metadata": {
        "id": "UKpoRvLdnA-s"
      }
    },
    {
      "cell_type": "code",
      "source": [
        "y = urinary_y['casesch']\n",
        "X = sm.add_constant(urinary_y['year'])\n",
        "\n",
        "linear_1 = sm.OLS(y, X).fit()\n",
        "\n",
        "print(\"Coefficients\", linear_1.params, sep = \"\\n\")"
      ],
      "metadata": {
        "colab": {
          "base_uri": "https://localhost:8080/"
        },
        "id": "JydlqldDnATj",
        "outputId": "8e5ec169-5d05-46cf-8756-501cf6c76d0f"
      },
      "execution_count": null,
      "outputs": [
        {
          "output_type": "stream",
          "name": "stdout",
          "text": [
            "Coefficients\n",
            "const   -4432302.2611\n",
            "year        2244.0734\n",
            "dtype: float64\n"
          ]
        },
        {
          "output_type": "stream",
          "name": "stderr",
          "text": [
            "/usr/local/lib/python3.7/dist-packages/statsmodels/tsa/tsatools.py:117: FutureWarning: In a future version of pandas all arguments of concat except for the argument 'objs' will be keyword-only\n",
            "  x = pd.concat(x[::order], 1)\n"
          ]
        }
      ]
    },
    {
      "cell_type": "code",
      "source": [
        "linear_1.summary()"
      ],
      "metadata": {
        "colab": {
          "base_uri": "https://localhost:8080/",
          "height": 505
        },
        "id": "uiw_Td4il6_Y",
        "outputId": "7d7ad51a-0228-404b-cb19-cd87a54fd9b8"
      },
      "execution_count": null,
      "outputs": [
        {
          "output_type": "stream",
          "name": "stderr",
          "text": [
            "/usr/local/lib/python3.7/dist-packages/scipy/stats/stats.py:1535: UserWarning: kurtosistest only valid for n>=20 ... continuing anyway, n=12\n",
            "  \"anyway, n=%i\" % int(n))\n"
          ]
        },
        {
          "output_type": "execute_result",
          "data": {
            "text/plain": [
              "<class 'statsmodels.iolib.summary.Summary'>\n",
              "\"\"\"\n",
              "                            OLS Regression Results                            \n",
              "==============================================================================\n",
              "Dep. Variable:                casesch   R-squared:                       0.988\n",
              "Model:                            OLS   Adj. R-squared:                  0.987\n",
              "Method:                 Least Squares   F-statistic:                     806.7\n",
              "Date:                Tue, 26 Apr 2022   Prob (F-statistic):           6.81e-11\n",
              "Time:                        07:24:39   Log-Likelihood:                -98.145\n",
              "No. Observations:                  12   AIC:                             200.3\n",
              "Df Residuals:                      10   BIC:                             201.3\n",
              "Df Model:                           1                                         \n",
              "Covariance Type:            nonrobust                                         \n",
              "==============================================================================\n",
              "                 coef    std err          t      P>|t|      [0.025      0.975]\n",
              "------------------------------------------------------------------------------\n",
              "const      -4.432e+06   1.59e+05    -27.861      0.000   -4.79e+06   -4.08e+06\n",
              "year        2244.0734     79.009     28.403      0.000    2068.029    2420.118\n",
              "==============================================================================\n",
              "Omnibus:                        1.353   Durbin-Watson:                   1.626\n",
              "Prob(Omnibus):                  0.508   Jarque-Bera (JB):                0.964\n",
              "Skew:                          -0.628   Prob(JB):                        0.617\n",
              "Kurtosis:                       2.409   Cond. No.                     1.17e+06\n",
              "==============================================================================\n",
              "\n",
              "Warnings:\n",
              "[1] Standard Errors assume that the covariance matrix of the errors is correctly specified.\n",
              "[2] The condition number is large, 1.17e+06. This might indicate that there are\n",
              "strong multicollinearity or other numerical problems.\n",
              "\"\"\""
            ],
            "text/html": [
              "<table class=\"simpletable\">\n",
              "<caption>OLS Regression Results</caption>\n",
              "<tr>\n",
              "  <th>Dep. Variable:</th>         <td>casesch</td>     <th>  R-squared:         </th> <td>   0.988</td>\n",
              "</tr>\n",
              "<tr>\n",
              "  <th>Model:</th>                   <td>OLS</td>       <th>  Adj. R-squared:    </th> <td>   0.987</td>\n",
              "</tr>\n",
              "<tr>\n",
              "  <th>Method:</th>             <td>Least Squares</td>  <th>  F-statistic:       </th> <td>   806.7</td>\n",
              "</tr>\n",
              "<tr>\n",
              "  <th>Date:</th>             <td>Tue, 26 Apr 2022</td> <th>  Prob (F-statistic):</th> <td>6.81e-11</td>\n",
              "</tr>\n",
              "<tr>\n",
              "  <th>Time:</th>                 <td>07:24:39</td>     <th>  Log-Likelihood:    </th> <td> -98.145</td>\n",
              "</tr>\n",
              "<tr>\n",
              "  <th>No. Observations:</th>      <td>    12</td>      <th>  AIC:               </th> <td>   200.3</td>\n",
              "</tr>\n",
              "<tr>\n",
              "  <th>Df Residuals:</th>          <td>    10</td>      <th>  BIC:               </th> <td>   201.3</td>\n",
              "</tr>\n",
              "<tr>\n",
              "  <th>Df Model:</th>              <td>     1</td>      <th>                     </th>     <td> </td>   \n",
              "</tr>\n",
              "<tr>\n",
              "  <th>Covariance Type:</th>      <td>nonrobust</td>    <th>                     </th>     <td> </td>   \n",
              "</tr>\n",
              "</table>\n",
              "<table class=\"simpletable\">\n",
              "<tr>\n",
              "    <td></td>       <th>coef</th>     <th>std err</th>      <th>t</th>      <th>P>|t|</th>  <th>[0.025</th>    <th>0.975]</th>  \n",
              "</tr>\n",
              "<tr>\n",
              "  <th>const</th> <td>-4.432e+06</td> <td> 1.59e+05</td> <td>  -27.861</td> <td> 0.000</td> <td>-4.79e+06</td> <td>-4.08e+06</td>\n",
              "</tr>\n",
              "<tr>\n",
              "  <th>year</th>  <td> 2244.0734</td> <td>   79.009</td> <td>   28.403</td> <td> 0.000</td> <td> 2068.029</td> <td> 2420.118</td>\n",
              "</tr>\n",
              "</table>\n",
              "<table class=\"simpletable\">\n",
              "<tr>\n",
              "  <th>Omnibus:</th>       <td> 1.353</td> <th>  Durbin-Watson:     </th> <td>   1.626</td>\n",
              "</tr>\n",
              "<tr>\n",
              "  <th>Prob(Omnibus):</th> <td> 0.508</td> <th>  Jarque-Bera (JB):  </th> <td>   0.964</td>\n",
              "</tr>\n",
              "<tr>\n",
              "  <th>Skew:</th>          <td>-0.628</td> <th>  Prob(JB):          </th> <td>   0.617</td>\n",
              "</tr>\n",
              "<tr>\n",
              "  <th>Kurtosis:</th>      <td> 2.409</td> <th>  Cond. No.          </th> <td>1.17e+06</td>\n",
              "</tr>\n",
              "</table><br/><br/>Warnings:<br/>[1] Standard Errors assume that the covariance matrix of the errors is correctly specified.<br/>[2] The condition number is large, 1.17e+06. This might indicate that there are<br/>strong multicollinearity or other numerical problems."
            ]
          },
          "metadata": {},
          "execution_count": 19
        }
      ]
    },
    {
      "cell_type": "markdown",
      "source": [
        "our model equation for urinary infections\n",
        "\n",
        "number of cases = -4432302.2611 + 2244.0734*urinary_y['year']"
      ],
      "metadata": {
        "id": "1XicAGrJoPUJ"
      }
    },
    {
      "cell_type": "code",
      "source": [
        "num_cases_pred = -4432302.2611 + 2244.0734*urinary_y['year']\n",
        "num_cases_pred"
      ],
      "metadata": {
        "colab": {
          "base_uri": "https://localhost:8080/"
        },
        "id": "NTtLhnGlngyq",
        "outputId": "9d891499-7a95-4c65-87dc-ad91043dc7bc"
      },
      "execution_count": null,
      "outputs": [
        {
          "output_type": "execute_result",
          "data": {
            "text/plain": [
              "0    73797.1261\n",
              "1    76041.1995\n",
              "2    78285.2729\n",
              "3    80529.3463\n",
              "4    82773.4197\n",
              "5    85017.4931\n",
              "6    87261.5665\n",
              "7    89505.6399\n",
              "8    91749.7133\n",
              "9    93993.7867\n",
              "10   96237.8601\n",
              "11   98481.9335\n",
              "Name: year, dtype: float64"
            ]
          },
          "metadata": {},
          "execution_count": 20
        }
      ]
    },
    {
      "cell_type": "code",
      "source": [
        "print(linear_1.summary())"
      ],
      "metadata": {
        "colab": {
          "base_uri": "https://localhost:8080/"
        },
        "id": "eWladNkyuY2i",
        "outputId": "2863d5bb-6de6-4174-9329-56f55c5b5720"
      },
      "execution_count": null,
      "outputs": [
        {
          "output_type": "stream",
          "name": "stdout",
          "text": [
            "                            OLS Regression Results                            \n",
            "==============================================================================\n",
            "Dep. Variable:                casesch   R-squared:                       0.988\n",
            "Model:                            OLS   Adj. R-squared:                  0.987\n",
            "Method:                 Least Squares   F-statistic:                     806.7\n",
            "Date:                Tue, 26 Apr 2022   Prob (F-statistic):           6.81e-11\n",
            "Time:                        07:24:39   Log-Likelihood:                -98.145\n",
            "No. Observations:                  12   AIC:                             200.3\n",
            "Df Residuals:                      10   BIC:                             201.3\n",
            "Df Model:                           1                                         \n",
            "Covariance Type:            nonrobust                                         \n",
            "==============================================================================\n",
            "                 coef    std err          t      P>|t|      [0.025      0.975]\n",
            "------------------------------------------------------------------------------\n",
            "const      -4.432e+06   1.59e+05    -27.861      0.000   -4.79e+06   -4.08e+06\n",
            "year        2244.0734     79.009     28.403      0.000    2068.029    2420.118\n",
            "==============================================================================\n",
            "Omnibus:                        1.353   Durbin-Watson:                   1.626\n",
            "Prob(Omnibus):                  0.508   Jarque-Bera (JB):                0.964\n",
            "Skew:                          -0.628   Prob(JB):                        0.617\n",
            "Kurtosis:                       2.409   Cond. No.                     1.17e+06\n",
            "==============================================================================\n",
            "\n",
            "Warnings:\n",
            "[1] Standard Errors assume that the covariance matrix of the errors is correctly specified.\n",
            "[2] The condition number is large, 1.17e+06. This might indicate that there are\n",
            "strong multicollinearity or other numerical problems.\n"
          ]
        },
        {
          "output_type": "stream",
          "name": "stderr",
          "text": [
            "/usr/local/lib/python3.7/dist-packages/scipy/stats/stats.py:1535: UserWarning: kurtosistest only valid for n>=20 ... continuing anyway, n=12\n",
            "  \"anyway, n=%i\" % int(n))\n"
          ]
        }
      ]
    },
    {
      "cell_type": "code",
      "source": [
        "for i in [2020, 2021, 2022, 2023, 2024]:\n",
        "  pred = -4432302.2611 + 2244.0734*i\n",
        "  print(pred)"
      ],
      "metadata": {
        "colab": {
          "base_uri": "https://localhost:8080/"
        },
        "id": "D5Xx5jC7uu3k",
        "outputId": "0f6a1d29-f371-4830-8132-86c09ab9ab45"
      },
      "execution_count": null,
      "outputs": [
        {
          "output_type": "stream",
          "name": "stdout",
          "text": [
            "100726.00690000039\n",
            "102970.0803000005\n",
            "105214.1537000006\n",
            "107458.22710000072\n",
            "109702.30050000083\n"
          ]
        }
      ]
    },
    {
      "cell_type": "code",
      "source": [
        "# Predict values\n",
        "cases_pred = linear_1.predict()\n",
        "\n",
        "# Plot regression against actual data\n",
        "plt.figure(figsize=(12, 6))\n",
        "plt.plot(urinary_y['year'], urinary_y['casesch'], 'o')           # scatter plot showing actual data\n",
        "plt.plot(urinary_y['year'], cases_pred, 'r', linewidth=2)   # regression line\n",
        "plt.xlabel('year')\n",
        "plt.ylabel('number of cases')\n",
        "plt.title('number of urinary infections')\n",
        "\n",
        "plt.show()"
      ],
      "metadata": {
        "colab": {
          "base_uri": "https://localhost:8080/",
          "height": 403
        },
        "id": "zTRzz25JZyCW",
        "outputId": "b0a38d5a-40fc-4814-d7ad-8da56ce730f7"
      },
      "execution_count": null,
      "outputs": [
        {
          "output_type": "display_data",
          "data": {
            "text/plain": [
              "<Figure size 864x432 with 1 Axes>"
            ],
            "image/png": "[encoded data removed]"
          },
          "metadata": {}
        }
      ]
    },
    {
      "cell_type": "markdown",
      "source": [
        "# Births Data"
      ],
      "metadata": {
        "id": "F8h3PQKtiXga"
      }
    },
    {
      "cell_type": "code",
      "source": [
        "num_deliv.head()"
      ],
      "metadata": {
        "colab": {
          "base_uri": "https://localhost:8080/",
          "height": 206
        },
        "id": "u_x63rItka0i",
        "outputId": "33ede809-ae18-47bf-fc76-2020438eebf9"
      },
      "execution_count": null,
      "outputs": [
        {
          "output_type": "execute_result",
          "data": {
            "text/plain": [
              "  Geographic MedStat region  Number of deliveries  \\\n",
              "0                 Limmattal              123.0000   \n",
              "1                    Urdorf               77.0000   \n",
              "2               Birmensdorf              101.0000   \n",
              "3        Affoltern am Albis              249.0000   \n",
              "4                  Obfelden              101.0000   \n",
              "\n",
              "   Number of cesarean sections  Cesarean section rate (%)  \\\n",
              "0                      51.0000                    41.4600   \n",
              "1                      24.0000                    31.1700   \n",
              "2                      47.0000                    46.5300   \n",
              "3                      77.0000                    30.9200   \n",
              "4                      27.0000                    26.7300   \n",
              "\n",
              "   Average age deliveries  Average age cesarean sections  year Canton  \\\n",
              "0                 31.5000                        31.3700  2007     ZH   \n",
              "1                 30.0800                        29.4300  2007     ZH   \n",
              "2                 32.6700                        34.2500  2007     ZH   \n",
              "3                 29.5000                        31.1900  2007     ZH   \n",
              "4                 31.5400                        35.0600  2007     ZH   \n",
              "\n",
              "  canton_name  \n",
              "0      Zürich  \n",
              "1      Zürich  \n",
              "2      Zürich  \n",
              "3      Zürich  \n",
              "4      Zürich  "
            ],
            "text/html": [
              "\n",
              "  <div id=\"df-06b994ca-2d72-410f-a5cb-18c67dcd753b\">\n",
              "    <div class=\"colab-df-container\">\n",
              "      <div>\n",
              "<style scoped>\n",
              "    .dataframe tbody tr th:only-of-type {\n",
              "        vertical-align: middle;\n",
              "    }\n",
              "\n",
              "    .dataframe tbody tr th {\n",
              "        vertical-align: top;\n",
              "    }\n",
              "\n",
              "    .dataframe thead th {\n",
              "        text-align: right;\n",
              "    }\n",
              "</style>\n",
              "<table border=\"1\" class=\"dataframe\">\n",
              "  <thead>\n",
              "    <tr style=\"text-align: right;\">\n",
              "      <th></th>\n",
              "      <th>Geographic MedStat region</th>\n",
              "      <th>Number of deliveries</th>\n",
              "      <th>Number of cesarean sections</th>\n",
              "      <th>Cesarean section rate (%)</th>\n",
              "      <th>Average age deliveries</th>\n",
              "      <th>Average age cesarean sections</th>\n",
              "      <th>year</th>\n",
              "      <th>Canton</th>\n",
              "      <th>canton_name</th>\n",
              "    </tr>\n",
              "  </thead>\n",
              "  <tbody>\n",
              "    <tr>\n",
              "      <th>0</th>\n",
              "      <td>Limmattal</td>\n",
              "      <td>123.0000</td>\n",
              "      <td>51.0000</td>\n",
              "      <td>41.4600</td>\n",
              "      <td>31.5000</td>\n",
              "      <td>31.3700</td>\n",
              "      <td>2007</td>\n",
              "      <td>ZH</td>\n",
              "      <td>Zürich</td>\n",
              "    </tr>\n",
              "    <tr>\n",
              "      <th>1</th>\n",
              "      <td>Urdorf</td>\n",
              "      <td>77.0000</td>\n",
              "      <td>24.0000</td>\n",
              "      <td>31.1700</td>\n",
              "      <td>30.0800</td>\n",
              "      <td>29.4300</td>\n",
              "      <td>2007</td>\n",
              "      <td>ZH</td>\n",
              "      <td>Zürich</td>\n",
              "    </tr>\n",
              "    <tr>\n",
              "      <th>2</th>\n",
              "      <td>Birmensdorf</td>\n",
              "      <td>101.0000</td>\n",
              "      <td>47.0000</td>\n",
              "      <td>46.5300</td>\n",
              "      <td>32.6700</td>\n",
              "      <td>34.2500</td>\n",
              "      <td>2007</td>\n",
              "      <td>ZH</td>\n",
              "      <td>Zürich</td>\n",
              "    </tr>\n",
              "    <tr>\n",
              "      <th>3</th>\n",
              "      <td>Affoltern am Albis</td>\n",
              "      <td>249.0000</td>\n",
              "      <td>77.0000</td>\n",
              "      <td>30.9200</td>\n",
              "      <td>29.5000</td>\n",
              "      <td>31.1900</td>\n",
              "      <td>2007</td>\n",
              "      <td>ZH</td>\n",
              "      <td>Zürich</td>\n",
              "    </tr>\n",
              "    <tr>\n",
              "      <th>4</th>\n",
              "      <td>Obfelden</td>\n",
              "      <td>101.0000</td>\n",
              "      <td>27.0000</td>\n",
              "      <td>26.7300</td>\n",
              "      <td>31.5400</td>\n",
              "      <td>35.0600</td>\n",
              "      <td>2007</td>\n",
              "      <td>ZH</td>\n",
              "      <td>Zürich</td>\n",
              "    </tr>\n",
              "  </tbody>\n",
              "</table>\n",
              "</div>\n",
              "      <button class=\"colab-df-convert\" onclick=\"convertToInteractive('df-06b994ca-2d72-410f-a5cb-18c67dcd753b')\"\n",
              "              title=\"Convert this dataframe to an interactive table.\"\n",
              "              style=\"display:none;\">\n",
              "        \n",
              "  <svg xmlns=\"http://www.w3.org/2000/svg\" height=\"24px\"viewBox=\"0 0 24 24\"\n",
              "       width=\"24px\">\n",
              "    <path d=\"M0 0h24v24H0V0z\" fill=\"none\"/>\n",
              "    <path d=\"M18.56 5.44l.94 2.06.94-2.06 2.06-.94-2.06-.94-.94-2.06-.94 2.06-2.06.94zm-11 1L8.5 8.5l.94-2.06 2.06-.94-2.06-.94L8.5 2.5l-.94 2.06-2.06.94zm10 10l.94 2.06.94-2.06 2.06-.94-2.06-.94-.94-2.06-.94 2.06-2.06.94z\"/><path d=\"M17.41 7.96l-1.37-1.37c-.4-.4-.92-.59-1.43-.59-.52 0-1.04.2-1.43.59L10.3 9.45l-7.72 7.72c-.78.78-.78 2.05 0 2.83L4 21.41c.39.39.9.59 1.41.59.51 0 1.02-.2 1.41-.59l7.78-7.78 2.81-2.81c.8-.78.8-2.07 0-2.86zM5.41 20L4 18.59l7.72-7.72 1.47 1.35L5.41 20z\"/>\n",
              "  </svg>\n",
              "      </button>\n",
              "      \n",
              "  <style>\n",
              "    .colab-df-container {\n",
              "      display:flex;\n",
              "      flex-wrap:wrap;\n",
              "      gap: 12px;\n",
              "    }\n",
              "\n",
              "    .colab-df-convert {\n",
              "      background-color: #E8F0FE;\n",
              "      border: none;\n",
              "      border-radius: 50%;\n",
              "      cursor: pointer;\n",
              "      display: none;\n",
              "      fill: #1967D2;\n",
              "      height: 32px;\n",
              "      padding: 0 0 0 0;\n",
              "      width: 32px;\n",
              "    }\n",
              "\n",
              "    .colab-df-convert:hover {\n",
              "      background-color: #E2EBFA;\n",
              "      box-shadow: 0px 1px 2px rgba(60, 64, 67, 0.3), 0px 1px 3px 1px rgba(60, 64, 67, 0.15);\n",
              "      fill: #174EA6;\n",
              "    }\n",
              "\n",
              "    [theme=dark] .colab-df-convert {\n",
              "      background-color: #3B4455;\n",
              "      fill: #D2E3FC;\n",
              "    }\n",
              "\n",
              "    [theme=dark] .colab-df-convert:hover {\n",
              "      background-color: #434B5C;\n",
              "      box-shadow: 0px 1px 3px 1px rgba(0, 0, 0, 0.15);\n",
              "      filter: drop-shadow(0px 1px 2px rgba(0, 0, 0, 0.3));\n",
              "      fill: #FFFFFF;\n",
              "    }\n",
              "  </style>\n",
              "\n",
              "      <script>\n",
              "        const buttonEl =\n",
              "          document.querySelector('#df-06b994ca-2d72-410f-a5cb-18c67dcd753b button.colab-df-convert');\n",
              "        buttonEl.style.display =\n",
              "          google.colab.kernel.accessAllowed ? 'block' : 'none';\n",
              "\n",
              "        async function convertToInteractive(key) {\n",
              "          const element = document.querySelector('#df-06b994ca-2d72-410f-a5cb-18c67dcd753b');\n",
              "          const dataTable =\n",
              "            await google.colab.kernel.invokeFunction('convertToInteractive',\n",
              "                                                     [key], {});\n",
              "          if (!dataTable) return;\n",
              "\n",
              "          const docLinkHtml = 'Like what you see? Visit the ' +\n",
              "            '<a target=\"_blank\" href=https://colab.research.google.com/notebooks/data_table.ipynb>data table notebook</a>'\n",
              "            + ' to learn more about interactive tables.';\n",
              "          element.innerHTML = '';\n",
              "          dataTable['output_type'] = 'display_data';\n",
              "          await google.colab.output.renderOutput(dataTable, element);\n",
              "          const docLink = document.createElement('div');\n",
              "          docLink.innerHTML = docLinkHtml;\n",
              "          element.appendChild(docLink);\n",
              "        }\n",
              "      </script>\n",
              "    </div>\n",
              "  </div>\n",
              "  "
            ]
          },
          "metadata": {},
          "execution_count": 24
        }
      ]
    },
    {
      "cell_type": "code",
      "source": [
        "deliv_years = num_deliv.groupby(['canton_name','year'])[ 'Number of deliveries', 'Number of cesarean sections'].sum().reset_index()\n",
        "deliv_years\n",
        "\n",
        "#make choropleth for each canton\n",
        "#and prediction model"
      ],
      "metadata": {
        "colab": {
          "base_uri": "https://localhost:8080/",
          "height": 460
        },
        "id": "u5Bu60KxetZm",
        "outputId": "15531a40-23dd-4afd-cfb6-e020d35fd2f9"
      },
      "execution_count": null,
      "outputs": [
        {
          "output_type": "stream",
          "name": "stderr",
          "text": [
            "/usr/local/lib/python3.7/dist-packages/ipykernel_launcher.py:1: FutureWarning: Indexing with multiple keys (implicitly converted to a tuple of keys) will be deprecated, use a list instead.\n",
            "  \"\"\"Entry point for launching an IPython kernel.\n"
          ]
        },
        {
          "output_type": "execute_result",
          "data": {
            "text/plain": [
              "    canton_name  year  Number of deliveries  Number of cesarean sections\n",
              "0        Aargau  2007             5363.0000                    1766.0000\n",
              "1        Aargau  2008             5759.0000                    1901.0000\n",
              "2        Aargau  2009             5676.0000                    1867.0000\n",
              "3        Aargau  2010             5929.0000                    1993.0000\n",
              "4        Aargau  2011             5992.0000                    2059.0000\n",
              "..          ...   ...                   ...                          ...\n",
              "333      Zürich  2015            16242.0000                    6040.0000\n",
              "334      Zürich  2016            16468.0000                    6126.0000\n",
              "335      Zürich  2017            16434.0000                    5954.0000\n",
              "336      Zürich  2018            16205.0000                    5787.0000\n",
              "337      Zürich  2019            31914.0000                   11676.0000\n",
              "\n",
              "[338 rows x 4 columns]"
            ],
            "text/html": [
              "\n",
              "  <div id=\"df-39224d97-cd67-41e2-a923-20c6c8ef7a4c\">\n",
              "    <div class=\"colab-df-container\">\n",
              "      <div>\n",
              "<style scoped>\n",
              "    .dataframe tbody tr th:only-of-type {\n",
              "        vertical-align: middle;\n",
              "    }\n",
              "\n",
              "    .dataframe tbody tr th {\n",
              "        vertical-align: top;\n",
              "    }\n",
              "\n",
              "    .dataframe thead th {\n",
              "        text-align: right;\n",
              "    }\n",
              "</style>\n",
              "<table border=\"1\" class=\"dataframe\">\n",
              "  <thead>\n",
              "    <tr style=\"text-align: right;\">\n",
              "      <th></th>\n",
              "      <th>canton_name</th>\n",
              "      <th>year</th>\n",
              "      <th>Number of deliveries</th>\n",
              "      <th>Number of cesarean sections</th>\n",
              "    </tr>\n",
              "  </thead>\n",
              "  <tbody>\n",
              "    <tr>\n",
              "      <th>0</th>\n",
              "      <td>Aargau</td>\n",
              "      <td>2007</td>\n",
              "      <td>5363.0000</td>\n",
              "      <td>1766.0000</td>\n",
              "    </tr>\n",
              "    <tr>\n",
              "      <th>1</th>\n",
              "      <td>Aargau</td>\n",
              "      <td>2008</td>\n",
              "      <td>5759.0000</td>\n",
              "      <td>1901.0000</td>\n",
              "    </tr>\n",
              "    <tr>\n",
              "      <th>2</th>\n",
              "      <td>Aargau</td>\n",
              "      <td>2009</td>\n",
              "      <td>5676.0000</td>\n",
              "      <td>1867.0000</td>\n",
              "    </tr>\n",
              "    <tr>\n",
              "      <th>3</th>\n",
              "      <td>Aargau</td>\n",
              "      <td>2010</td>\n",
              "      <td>5929.0000</td>\n",
              "      <td>1993.0000</td>\n",
              "    </tr>\n",
              "    <tr>\n",
              "      <th>4</th>\n",
              "      <td>Aargau</td>\n",
              "      <td>2011</td>\n",
              "      <td>5992.0000</td>\n",
              "      <td>2059.0000</td>\n",
              "    </tr>\n",
              "    <tr>\n",
              "      <th>...</th>\n",
              "      <td>...</td>\n",
              "      <td>...</td>\n",
              "      <td>...</td>\n",
              "      <td>...</td>\n",
              "    </tr>\n",
              "    <tr>\n",
              "      <th>333</th>\n",
              "      <td>Zürich</td>\n",
              "      <td>2015</td>\n",
              "      <td>16242.0000</td>\n",
              "      <td>6040.0000</td>\n",
              "    </tr>\n",
              "    <tr>\n",
              "      <th>334</th>\n",
              "      <td>Zürich</td>\n",
              "      <td>2016</td>\n",
              "      <td>16468.0000</td>\n",
              "      <td>6126.0000</td>\n",
              "    </tr>\n",
              "    <tr>\n",
              "      <th>335</th>\n",
              "      <td>Zürich</td>\n",
              "      <td>2017</td>\n",
              "      <td>16434.0000</td>\n",
              "      <td>5954.0000</td>\n",
              "    </tr>\n",
              "    <tr>\n",
              "      <th>336</th>\n",
              "      <td>Zürich</td>\n",
              "      <td>2018</td>\n",
              "      <td>16205.0000</td>\n",
              "      <td>5787.0000</td>\n",
              "    </tr>\n",
              "    <tr>\n",
              "      <th>337</th>\n",
              "      <td>Zürich</td>\n",
              "      <td>2019</td>\n",
              "      <td>31914.0000</td>\n",
              "      <td>11676.0000</td>\n",
              "    </tr>\n",
              "  </tbody>\n",
              "</table>\n",
              "<p>338 rows × 4 columns</p>\n",
              "</div>\n",
              "      <button class=\"colab-df-convert\" onclick=\"convertToInteractive('df-39224d97-cd67-41e2-a923-20c6c8ef7a4c')\"\n",
              "              title=\"Convert this dataframe to an interactive table.\"\n",
              "              style=\"display:none;\">\n",
              "        \n",
              "  <svg xmlns=\"http://www.w3.org/2000/svg\" height=\"24px\"viewBox=\"0 0 24 24\"\n",
              "       width=\"24px\">\n",
              "    <path d=\"M0 0h24v24H0V0z\" fill=\"none\"/>\n",
              "    <path d=\"M18.56 5.44l.94 2.06.94-2.06 2.06-.94-2.06-.94-.94-2.06-.94 2.06-2.06.94zm-11 1L8.5 8.5l.94-2.06 2.06-.94-2.06-.94L8.5 2.5l-.94 2.06-2.06.94zm10 10l.94 2.06.94-2.06 2.06-.94-2.06-.94-.94-2.06-.94 2.06-2.06.94z\"/><path d=\"M17.41 7.96l-1.37-1.37c-.4-.4-.92-.59-1.43-.59-.52 0-1.04.2-1.43.59L10.3 9.45l-7.72 7.72c-.78.78-.78 2.05 0 2.83L4 21.41c.39.39.9.59 1.41.59.51 0 1.02-.2 1.41-.59l7.78-7.78 2.81-2.81c.8-.78.8-2.07 0-2.86zM5.41 20L4 18.59l7.72-7.72 1.47 1.35L5.41 20z\"/>\n",
              "  </svg>\n",
              "      </button>\n",
              "      \n",
              "  <style>\n",
              "    .colab-df-container {\n",
              "      display:flex;\n",
              "      flex-wrap:wrap;\n",
              "      gap: 12px;\n",
              "    }\n",
              "\n",
              "    .colab-df-convert {\n",
              "      background-color: #E8F0FE;\n",
              "      border: none;\n",
              "      border-radius: 50%;\n",
              "      cursor: pointer;\n",
              "      display: none;\n",
              "      fill: #1967D2;\n",
              "      height: 32px;\n",
              "      padding: 0 0 0 0;\n",
              "      width: 32px;\n",
              "    }\n",
              "\n",
              "    .colab-df-convert:hover {\n",
              "      background-color: #E2EBFA;\n",
              "      box-shadow: 0px 1px 2px rgba(60, 64, 67, 0.3), 0px 1px 3px 1px rgba(60, 64, 67, 0.15);\n",
              "      fill: #174EA6;\n",
              "    }\n",
              "\n",
              "    [theme=dark] .colab-df-convert {\n",
              "      background-color: #3B4455;\n",
              "      fill: #D2E3FC;\n",
              "    }\n",
              "\n",
              "    [theme=dark] .colab-df-convert:hover {\n",
              "      background-color: #434B5C;\n",
              "      box-shadow: 0px 1px 3px 1px rgba(0, 0, 0, 0.15);\n",
              "      filter: drop-shadow(0px 1px 2px rgba(0, 0, 0, 0.3));\n",
              "      fill: #FFFFFF;\n",
              "    }\n",
              "  </style>\n",
              "\n",
              "      <script>\n",
              "        const buttonEl =\n",
              "          document.querySelector('#df-39224d97-cd67-41e2-a923-20c6c8ef7a4c button.colab-df-convert');\n",
              "        buttonEl.style.display =\n",
              "          google.colab.kernel.accessAllowed ? 'block' : 'none';\n",
              "\n",
              "        async function convertToInteractive(key) {\n",
              "          const element = document.querySelector('#df-39224d97-cd67-41e2-a923-20c6c8ef7a4c');\n",
              "          const dataTable =\n",
              "            await google.colab.kernel.invokeFunction('convertToInteractive',\n",
              "                                                     [key], {});\n",
              "          if (!dataTable) return;\n",
              "\n",
              "          const docLinkHtml = 'Like what you see? Visit the ' +\n",
              "            '<a target=\"_blank\" href=https://colab.research.google.com/notebooks/data_table.ipynb>data table notebook</a>'\n",
              "            + ' to learn more about interactive tables.';\n",
              "          element.innerHTML = '';\n",
              "          dataTable['output_type'] = 'display_data';\n",
              "          await google.colab.output.renderOutput(dataTable, element);\n",
              "          const docLink = document.createElement('div');\n",
              "          docLink.innerHTML = docLinkHtml;\n",
              "          element.appendChild(docLink);\n",
              "        }\n",
              "      </script>\n",
              "    </div>\n",
              "  </div>\n",
              "  "
            ]
          },
          "metadata": {},
          "execution_count": 25
        }
      ]
    },
    {
      "cell_type": "code",
      "source": [
        "deliv_years.sort_values(by='Number of deliveries', ascending = False)"
      ],
      "metadata": {
        "colab": {
          "base_uri": "https://localhost:8080/",
          "height": 423
        },
        "id": "ZDpNPYjWlX-G",
        "outputId": "8d825806-4841-410c-ca9e-afab705e0088"
      },
      "execution_count": null,
      "outputs": [
        {
          "output_type": "execute_result",
          "data": {
            "text/plain": [
              "               canton_name  year  Number of deliveries  \\\n",
              "337                 Zürich  2019            31914.0000   \n",
              "77                    Bern  2019            19196.0000   \n",
              "311                   Vaud  2019            16648.0000   \n",
              "334                 Zürich  2016            16468.0000   \n",
              "335                 Zürich  2017            16434.0000   \n",
              "..                     ...   ...                   ...   \n",
              "30   Appenzell Innerrhoden  2011              152.0000   \n",
              "31   Appenzell Innerrhoden  2012              151.0000   \n",
              "37   Appenzell Innerrhoden  2018              150.0000   \n",
              "33   Appenzell Innerrhoden  2014              139.0000   \n",
              "29   Appenzell Innerrhoden  2010              135.0000   \n",
              "\n",
              "     Number of cesarean sections  \n",
              "337                   11676.0000  \n",
              "77                     6162.0000  \n",
              "311                    4786.0000  \n",
              "334                    6126.0000  \n",
              "335                    5954.0000  \n",
              "..                           ...  \n",
              "30                       42.0000  \n",
              "31                       43.0000  \n",
              "37                       44.0000  \n",
              "33                       36.0000  \n",
              "29                       39.0000  \n",
              "\n",
              "[338 rows x 4 columns]"
            ],
            "text/html": [
              "\n",
              "  <div id=\"df-e09b2cb6-d7f3-4491-b50d-90cde5b9727f\">\n",
              "    <div class=\"colab-df-container\">\n",
              "      <div>\n",
              "<style scoped>\n",
              "    .dataframe tbody tr th:only-of-type {\n",
              "        vertical-align: middle;\n",
              "    }\n",
              "\n",
              "    .dataframe tbody tr th {\n",
              "        vertical-align: top;\n",
              "    }\n",
              "\n",
              "    .dataframe thead th {\n",
              "        text-align: right;\n",
              "    }\n",
              "</style>\n",
              "<table border=\"1\" class=\"dataframe\">\n",
              "  <thead>\n",
              "    <tr style=\"text-align: right;\">\n",
              "      <th></th>\n",
              "      <th>canton_name</th>\n",
              "      <th>year</th>\n",
              "      <th>Number of deliveries</th>\n",
              "      <th>Number of cesarean sections</th>\n",
              "    </tr>\n",
              "  </thead>\n",
              "  <tbody>\n",
              "    <tr>\n",
              "      <th>337</th>\n",
              "      <td>Zürich</td>\n",
              "      <td>2019</td>\n",
              "      <td>31914.0000</td>\n",
              "      <td>11676.0000</td>\n",
              "    </tr>\n",
              "    <tr>\n",
              "      <th>77</th>\n",
              "      <td>Bern</td>\n",
              "      <td>2019</td>\n",
              "      <td>19196.0000</td>\n",
              "      <td>6162.0000</td>\n",
              "    </tr>\n",
              "    <tr>\n",
              "      <th>311</th>\n",
              "      <td>Vaud</td>\n",
              "      <td>2019</td>\n",
              "      <td>16648.0000</td>\n",
              "      <td>4786.0000</td>\n",
              "    </tr>\n",
              "    <tr>\n",
              "      <th>334</th>\n",
              "      <td>Zürich</td>\n",
              "      <td>2016</td>\n",
              "      <td>16468.0000</td>\n",
              "      <td>6126.0000</td>\n",
              "    </tr>\n",
              "    <tr>\n",
              "      <th>335</th>\n",
              "      <td>Zürich</td>\n",
              "      <td>2017</td>\n",
              "      <td>16434.0000</td>\n",
              "      <td>5954.0000</td>\n",
              "    </tr>\n",
              "    <tr>\n",
              "      <th>...</th>\n",
              "      <td>...</td>\n",
              "      <td>...</td>\n",
              "      <td>...</td>\n",
              "      <td>...</td>\n",
              "    </tr>\n",
              "    <tr>\n",
              "      <th>30</th>\n",
              "      <td>Appenzell Innerrhoden</td>\n",
              "      <td>2011</td>\n",
              "      <td>152.0000</td>\n",
              "      <td>42.0000</td>\n",
              "    </tr>\n",
              "    <tr>\n",
              "      <th>31</th>\n",
              "      <td>Appenzell Innerrhoden</td>\n",
              "      <td>2012</td>\n",
              "      <td>151.0000</td>\n",
              "      <td>43.0000</td>\n",
              "    </tr>\n",
              "    <tr>\n",
              "      <th>37</th>\n",
              "      <td>Appenzell Innerrhoden</td>\n",
              "      <td>2018</td>\n",
              "      <td>150.0000</td>\n",
              "      <td>44.0000</td>\n",
              "    </tr>\n",
              "    <tr>\n",
              "      <th>33</th>\n",
              "      <td>Appenzell Innerrhoden</td>\n",
              "      <td>2014</td>\n",
              "      <td>139.0000</td>\n",
              "      <td>36.0000</td>\n",
              "    </tr>\n",
              "    <tr>\n",
              "      <th>29</th>\n",
              "      <td>Appenzell Innerrhoden</td>\n",
              "      <td>2010</td>\n",
              "      <td>135.0000</td>\n",
              "      <td>39.0000</td>\n",
              "    </tr>\n",
              "  </tbody>\n",
              "</table>\n",
              "<p>338 rows × 4 columns</p>\n",
              "</div>\n",
              "      <button class=\"colab-df-convert\" onclick=\"convertToInteractive('df-e09b2cb6-d7f3-4491-b50d-90cde5b9727f')\"\n",
              "              title=\"Convert this dataframe to an interactive table.\"\n",
              "              style=\"display:none;\">\n",
              "        \n",
              "  <svg xmlns=\"http://www.w3.org/2000/svg\" height=\"24px\"viewBox=\"0 0 24 24\"\n",
              "       width=\"24px\">\n",
              "    <path d=\"M0 0h24v24H0V0z\" fill=\"none\"/>\n",
              "    <path d=\"M18.56 5.44l.94 2.06.94-2.06 2.06-.94-2.06-.94-.94-2.06-.94 2.06-2.06.94zm-11 1L8.5 8.5l.94-2.06 2.06-.94-2.06-.94L8.5 2.5l-.94 2.06-2.06.94zm10 10l.94 2.06.94-2.06 2.06-.94-2.06-.94-.94-2.06-.94 2.06-2.06.94z\"/><path d=\"M17.41 7.96l-1.37-1.37c-.4-.4-.92-.59-1.43-.59-.52 0-1.04.2-1.43.59L10.3 9.45l-7.72 7.72c-.78.78-.78 2.05 0 2.83L4 21.41c.39.39.9.59 1.41.59.51 0 1.02-.2 1.41-.59l7.78-7.78 2.81-2.81c.8-.78.8-2.07 0-2.86zM5.41 20L4 18.59l7.72-7.72 1.47 1.35L5.41 20z\"/>\n",
              "  </svg>\n",
              "      </button>\n",
              "      \n",
              "  <style>\n",
              "    .colab-df-container {\n",
              "      display:flex;\n",
              "      flex-wrap:wrap;\n",
              "      gap: 12px;\n",
              "    }\n",
              "\n",
              "    .colab-df-convert {\n",
              "      background-color: #E8F0FE;\n",
              "      border: none;\n",
              "      border-radius: 50%;\n",
              "      cursor: pointer;\n",
              "      display: none;\n",
              "      fill: #1967D2;\n",
              "      height: 32px;\n",
              "      padding: 0 0 0 0;\n",
              "      width: 32px;\n",
              "    }\n",
              "\n",
              "    .colab-df-convert:hover {\n",
              "      background-color: #E2EBFA;\n",
              "      box-shadow: 0px 1px 2px rgba(60, 64, 67, 0.3), 0px 1px 3px 1px rgba(60, 64, 67, 0.15);\n",
              "      fill: #174EA6;\n",
              "    }\n",
              "\n",
              "    [theme=dark] .colab-df-convert {\n",
              "      background-color: #3B4455;\n",
              "      fill: #D2E3FC;\n",
              "    }\n",
              "\n",
              "    [theme=dark] .colab-df-convert:hover {\n",
              "      background-color: #434B5C;\n",
              "      box-shadow: 0px 1px 3px 1px rgba(0, 0, 0, 0.15);\n",
              "      filter: drop-shadow(0px 1px 2px rgba(0, 0, 0, 0.3));\n",
              "      fill: #FFFFFF;\n",
              "    }\n",
              "  </style>\n",
              "\n",
              "      <script>\n",
              "        const buttonEl =\n",
              "          document.querySelector('#df-e09b2cb6-d7f3-4491-b50d-90cde5b9727f button.colab-df-convert');\n",
              "        buttonEl.style.display =\n",
              "          google.colab.kernel.accessAllowed ? 'block' : 'none';\n",
              "\n",
              "        async function convertToInteractive(key) {\n",
              "          const element = document.querySelector('#df-e09b2cb6-d7f3-4491-b50d-90cde5b9727f');\n",
              "          const dataTable =\n",
              "            await google.colab.kernel.invokeFunction('convertToInteractive',\n",
              "                                                     [key], {});\n",
              "          if (!dataTable) return;\n",
              "\n",
              "          const docLinkHtml = 'Like what you see? Visit the ' +\n",
              "            '<a target=\"_blank\" href=https://colab.research.google.com/notebooks/data_table.ipynb>data table notebook</a>'\n",
              "            + ' to learn more about interactive tables.';\n",
              "          element.innerHTML = '';\n",
              "          dataTable['output_type'] = 'display_data';\n",
              "          await google.colab.output.renderOutput(dataTable, element);\n",
              "          const docLink = document.createElement('div');\n",
              "          docLink.innerHTML = docLinkHtml;\n",
              "          element.appendChild(docLink);\n",
              "        }\n",
              "      </script>\n",
              "    </div>\n",
              "  </div>\n",
              "  "
            ]
          },
          "metadata": {},
          "execution_count": 26
        }
      ]
    },
    {
      "cell_type": "code",
      "source": [
        "swiss_deliv = num_deliv.groupby(['year'])[ 'Number of deliveries', 'Number of cesarean sections'].sum().reset_index()\n",
        "swiss_deliv"
      ],
      "metadata": {
        "colab": {
          "base_uri": "https://localhost:8080/",
          "height": 493
        },
        "id": "nxKniX9XfhUE",
        "outputId": "d244c2de-be8d-494e-b42f-83197aaa81b6"
      },
      "execution_count": null,
      "outputs": [
        {
          "output_type": "stream",
          "name": "stderr",
          "text": [
            "/usr/local/lib/python3.7/dist-packages/ipykernel_launcher.py:1: FutureWarning: Indexing with multiple keys (implicitly converted to a tuple of keys) will be deprecated, use a list instead.\n",
            "  \"\"\"Entry point for launching an IPython kernel.\n"
          ]
        },
        {
          "output_type": "execute_result",
          "data": {
            "text/plain": [
              "    year  Number of deliveries  Number of cesarean sections\n",
              "0   2007            72656.0000                   23393.0000\n",
              "1   2008            76340.0000                   25206.0000\n",
              "2   2009            75310.0000                   24689.0000\n",
              "3   2010            77929.0000                   25528.0000\n",
              "4   2011            78206.0000                   26062.0000\n",
              "5   2012            79602.0000                   26575.0000\n",
              "6   2013            81862.0000                   27285.0000\n",
              "7   2014            83933.0000                   28318.0000\n",
              "8   2015            85325.0000                   28458.0000\n",
              "9   2016            86684.0000                   28748.0000\n",
              "10  2017            85887.0000                   27780.0000\n",
              "11  2018            86296.0000                   27723.0000\n",
              "12  2019           170030.0000                   54434.0000"
            ],
            "text/html": [
              "\n",
              "  <div id=\"df-66be6ed7-5ec9-4f88-924d-f0659b9dc58b\">\n",
              "    <div class=\"colab-df-container\">\n",
              "      <div>\n",
              "<style scoped>\n",
              "    .dataframe tbody tr th:only-of-type {\n",
              "        vertical-align: middle;\n",
              "    }\n",
              "\n",
              "    .dataframe tbody tr th {\n",
              "        vertical-align: top;\n",
              "    }\n",
              "\n",
              "    .dataframe thead th {\n",
              "        text-align: right;\n",
              "    }\n",
              "</style>\n",
              "<table border=\"1\" class=\"dataframe\">\n",
              "  <thead>\n",
              "    <tr style=\"text-align: right;\">\n",
              "      <th></th>\n",
              "      <th>year</th>\n",
              "      <th>Number of deliveries</th>\n",
              "      <th>Number of cesarean sections</th>\n",
              "    </tr>\n",
              "  </thead>\n",
              "  <tbody>\n",
              "    <tr>\n",
              "      <th>0</th>\n",
              "      <td>2007</td>\n",
              "      <td>72656.0000</td>\n",
              "      <td>23393.0000</td>\n",
              "    </tr>\n",
              "    <tr>\n",
              "      <th>1</th>\n",
              "      <td>2008</td>\n",
              "      <td>76340.0000</td>\n",
              "      <td>25206.0000</td>\n",
              "    </tr>\n",
              "    <tr>\n",
              "      <th>2</th>\n",
              "      <td>2009</td>\n",
              "      <td>75310.0000</td>\n",
              "      <td>24689.0000</td>\n",
              "    </tr>\n",
              "    <tr>\n",
              "      <th>3</th>\n",
              "      <td>2010</td>\n",
              "      <td>77929.0000</td>\n",
              "      <td>25528.0000</td>\n",
              "    </tr>\n",
              "    <tr>\n",
              "      <th>4</th>\n",
              "      <td>2011</td>\n",
              "      <td>78206.0000</td>\n",
              "      <td>26062.0000</td>\n",
              "    </tr>\n",
              "    <tr>\n",
              "      <th>5</th>\n",
              "      <td>2012</td>\n",
              "      <td>79602.0000</td>\n",
              "      <td>26575.0000</td>\n",
              "    </tr>\n",
              "    <tr>\n",
              "      <th>6</th>\n",
              "      <td>2013</td>\n",
              "      <td>81862.0000</td>\n",
              "      <td>27285.0000</td>\n",
              "    </tr>\n",
              "    <tr>\n",
              "      <th>7</th>\n",
              "      <td>2014</td>\n",
              "      <td>83933.0000</td>\n",
              "      <td>28318.0000</td>\n",
              "    </tr>\n",
              "    <tr>\n",
              "      <th>8</th>\n",
              "      <td>2015</td>\n",
              "      <td>85325.0000</td>\n",
              "      <td>28458.0000</td>\n",
              "    </tr>\n",
              "    <tr>\n",
              "      <th>9</th>\n",
              "      <td>2016</td>\n",
              "      <td>86684.0000</td>\n",
              "      <td>28748.0000</td>\n",
              "    </tr>\n",
              "    <tr>\n",
              "      <th>10</th>\n",
              "      <td>2017</td>\n",
              "      <td>85887.0000</td>\n",
              "      <td>27780.0000</td>\n",
              "    </tr>\n",
              "    <tr>\n",
              "      <th>11</th>\n",
              "      <td>2018</td>\n",
              "      <td>86296.0000</td>\n",
              "      <td>27723.0000</td>\n",
              "    </tr>\n",
              "    <tr>\n",
              "      <th>12</th>\n",
              "      <td>2019</td>\n",
              "      <td>170030.0000</td>\n",
              "      <td>54434.0000</td>\n",
              "    </tr>\n",
              "  </tbody>\n",
              "</table>\n",
              "</div>\n",
              "      <button class=\"colab-df-convert\" onclick=\"convertToInteractive('df-66be6ed7-5ec9-4f88-924d-f0659b9dc58b')\"\n",
              "              title=\"Convert this dataframe to an interactive table.\"\n",
              "              style=\"display:none;\">\n",
              "        \n",
              "  <svg xmlns=\"http://www.w3.org/2000/svg\" height=\"24px\"viewBox=\"0 0 24 24\"\n",
              "       width=\"24px\">\n",
              "    <path d=\"M0 0h24v24H0V0z\" fill=\"none\"/>\n",
              "    <path d=\"M18.56 5.44l.94 2.06.94-2.06 2.06-.94-2.06-.94-.94-2.06-.94 2.06-2.06.94zm-11 1L8.5 8.5l.94-2.06 2.06-.94-2.06-.94L8.5 2.5l-.94 2.06-2.06.94zm10 10l.94 2.06.94-2.06 2.06-.94-2.06-.94-.94-2.06-.94 2.06-2.06.94z\"/><path d=\"M17.41 7.96l-1.37-1.37c-.4-.4-.92-.59-1.43-.59-.52 0-1.04.2-1.43.59L10.3 9.45l-7.72 7.72c-.78.78-.78 2.05 0 2.83L4 21.41c.39.39.9.59 1.41.59.51 0 1.02-.2 1.41-.59l7.78-7.78 2.81-2.81c.8-.78.8-2.07 0-2.86zM5.41 20L4 18.59l7.72-7.72 1.47 1.35L5.41 20z\"/>\n",
              "  </svg>\n",
              "      </button>\n",
              "      \n",
              "  <style>\n",
              "    .colab-df-container {\n",
              "      display:flex;\n",
              "      flex-wrap:wrap;\n",
              "      gap: 12px;\n",
              "    }\n",
              "\n",
              "    .colab-df-convert {\n",
              "      background-color: #E8F0FE;\n",
              "      border: none;\n",
              "      border-radius: 50%;\n",
              "      cursor: pointer;\n",
              "      display: none;\n",
              "      fill: #1967D2;\n",
              "      height: 32px;\n",
              "      padding: 0 0 0 0;\n",
              "      width: 32px;\n",
              "    }\n",
              "\n",
              "    .colab-df-convert:hover {\n",
              "      background-color: #E2EBFA;\n",
              "      box-shadow: 0px 1px 2px rgba(60, 64, 67, 0.3), 0px 1px 3px 1px rgba(60, 64, 67, 0.15);\n",
              "      fill: #174EA6;\n",
              "    }\n",
              "\n",
              "    [theme=dark] .colab-df-convert {\n",
              "      background-color: #3B4455;\n",
              "      fill: #D2E3FC;\n",
              "    }\n",
              "\n",
              "    [theme=dark] .colab-df-convert:hover {\n",
              "      background-color: #434B5C;\n",
              "      box-shadow: 0px 1px 3px 1px rgba(0, 0, 0, 0.15);\n",
              "      filter: drop-shadow(0px 1px 2px rgba(0, 0, 0, 0.3));\n",
              "      fill: #FFFFFF;\n",
              "    }\n",
              "  </style>\n",
              "\n",
              "      <script>\n",
              "        const buttonEl =\n",
              "          document.querySelector('#df-66be6ed7-5ec9-4f88-924d-f0659b9dc58b button.colab-df-convert');\n",
              "        buttonEl.style.display =\n",
              "          google.colab.kernel.accessAllowed ? 'block' : 'none';\n",
              "\n",
              "        async function convertToInteractive(key) {\n",
              "          const element = document.querySelector('#df-66be6ed7-5ec9-4f88-924d-f0659b9dc58b');\n",
              "          const dataTable =\n",
              "            await google.colab.kernel.invokeFunction('convertToInteractive',\n",
              "                                                     [key], {});\n",
              "          if (!dataTable) return;\n",
              "\n",
              "          const docLinkHtml = 'Like what you see? Visit the ' +\n",
              "            '<a target=\"_blank\" href=https://colab.research.google.com/notebooks/data_table.ipynb>data table notebook</a>'\n",
              "            + ' to learn more about interactive tables.';\n",
              "          element.innerHTML = '';\n",
              "          dataTable['output_type'] = 'display_data';\n",
              "          await google.colab.output.renderOutput(dataTable, element);\n",
              "          const docLink = document.createElement('div');\n",
              "          docLink.innerHTML = docLinkHtml;\n",
              "          element.appendChild(docLink);\n",
              "        }\n",
              "      </script>\n",
              "    </div>\n",
              "  </div>\n",
              "  "
            ]
          },
          "metadata": {},
          "execution_count": 27
        }
      ]
    },
    {
      "cell_type": "markdown",
      "source": [
        "number  of deliveries prediction"
      ],
      "metadata": {
        "id": "g0W0nLF6grLb"
      }
    },
    {
      "cell_type": "code",
      "source": [
        "y = swiss_deliv['Number of deliveries']\n",
        "X = sm.add_constant(swiss_deliv['year'])\n",
        "\n",
        "swiss1 = sm.OLS(y, X).fit()\n",
        "\n",
        "print(\"Coefficients\", swiss1.params, sep = \"\\n\")"
      ],
      "metadata": {
        "colab": {
          "base_uri": "https://localhost:8080/"
        },
        "id": "YCuSW6NsgeQo",
        "outputId": "de9aca2d-8c2f-4f29-b934-cc2b8ff2c1b3"
      },
      "execution_count": null,
      "outputs": [
        {
          "output_type": "stream",
          "name": "stdout",
          "text": [
            "Coefficients\n",
            "const   -7888716.0330\n",
            "year        3962.4505\n",
            "dtype: float64\n"
          ]
        },
        {
          "output_type": "stream",
          "name": "stderr",
          "text": [
            "/usr/local/lib/python3.7/dist-packages/statsmodels/tsa/tsatools.py:117: FutureWarning: In a future version of pandas all arguments of concat except for the argument 'objs' will be keyword-only\n",
            "  x = pd.concat(x[::order], 1)\n"
          ]
        }
      ]
    },
    {
      "cell_type": "code",
      "source": [
        "swiss1.summary()"
      ],
      "metadata": {
        "colab": {
          "base_uri": "https://localhost:8080/",
          "height": 505
        },
        "id": "8V4I6uTOhRTt",
        "outputId": "a0d28c11-6509-48ec-eb46-754b0050010b"
      },
      "execution_count": null,
      "outputs": [
        {
          "output_type": "stream",
          "name": "stderr",
          "text": [
            "/usr/local/lib/python3.7/dist-packages/scipy/stats/stats.py:1535: UserWarning: kurtosistest only valid for n>=20 ... continuing anyway, n=13\n",
            "  \"anyway, n=%i\" % int(n))\n"
          ]
        },
        {
          "output_type": "execute_result",
          "data": {
            "text/plain": [
              "<class 'statsmodels.iolib.summary.Summary'>\n",
              "\"\"\"\n",
              "                             OLS Regression Results                             \n",
              "================================================================================\n",
              "Dep. Variable:     Number of deliveries   R-squared:                       0.376\n",
              "Model:                              OLS   Adj. R-squared:                  0.319\n",
              "Method:                   Least Squares   F-statistic:                     6.630\n",
              "Date:                  Tue, 26 Apr 2022   Prob (F-statistic):             0.0258\n",
              "Time:                          07:24:39   Log-Likelihood:                -146.59\n",
              "No. Observations:                    13   AIC:                             297.2\n",
              "Df Residuals:                        11   BIC:                             298.3\n",
              "Df Model:                             1                                         \n",
              "Covariance Type:              nonrobust                                         \n",
              "==============================================================================\n",
              "                 coef    std err          t      P>|t|      [0.025      0.975]\n",
              "------------------------------------------------------------------------------\n",
              "const      -7.889e+06    3.1e+06     -2.547      0.027   -1.47e+07   -1.07e+06\n",
              "year        3962.4505   1538.860      2.575      0.026     575.442    7349.459\n",
              "==============================================================================\n",
              "Omnibus:                       20.123   Durbin-Watson:                   1.364\n",
              "Prob(Omnibus):                  0.000   Jarque-Bera (JB):               17.555\n",
              "Skew:                           2.022   Prob(JB):                     0.000154\n",
              "Kurtosis:                       7.006   Cond. No.                     1.08e+06\n",
              "==============================================================================\n",
              "\n",
              "Warnings:\n",
              "[1] Standard Errors assume that the covariance matrix of the errors is correctly specified.\n",
              "[2] The condition number is large, 1.08e+06. This might indicate that there are\n",
              "strong multicollinearity or other numerical problems.\n",
              "\"\"\""
            ],
            "text/html": [
              "<table class=\"simpletable\">\n",
              "<caption>OLS Regression Results</caption>\n",
              "<tr>\n",
              "  <th>Dep. Variable:</th>    <td>Number of deliveries</td> <th>  R-squared:         </th> <td>   0.376</td>\n",
              "</tr>\n",
              "<tr>\n",
              "  <th>Model:</th>                     <td>OLS</td>         <th>  Adj. R-squared:    </th> <td>   0.319</td>\n",
              "</tr>\n",
              "<tr>\n",
              "  <th>Method:</th>               <td>Least Squares</td>    <th>  F-statistic:       </th> <td>   6.630</td>\n",
              "</tr>\n",
              "<tr>\n",
              "  <th>Date:</th>               <td>Tue, 26 Apr 2022</td>   <th>  Prob (F-statistic):</th>  <td>0.0258</td> \n",
              "</tr>\n",
              "<tr>\n",
              "  <th>Time:</th>                   <td>07:24:39</td>       <th>  Log-Likelihood:    </th> <td> -146.59</td>\n",
              "</tr>\n",
              "<tr>\n",
              "  <th>No. Observations:</th>        <td>    13</td>        <th>  AIC:               </th> <td>   297.2</td>\n",
              "</tr>\n",
              "<tr>\n",
              "  <th>Df Residuals:</th>            <td>    11</td>        <th>  BIC:               </th> <td>   298.3</td>\n",
              "</tr>\n",
              "<tr>\n",
              "  <th>Df Model:</th>                <td>     1</td>        <th>                     </th>     <td> </td>   \n",
              "</tr>\n",
              "<tr>\n",
              "  <th>Covariance Type:</th>        <td>nonrobust</td>      <th>                     </th>     <td> </td>   \n",
              "</tr>\n",
              "</table>\n",
              "<table class=\"simpletable\">\n",
              "<tr>\n",
              "    <td></td>       <th>coef</th>     <th>std err</th>      <th>t</th>      <th>P>|t|</th>  <th>[0.025</th>    <th>0.975]</th>  \n",
              "</tr>\n",
              "<tr>\n",
              "  <th>const</th> <td>-7.889e+06</td> <td>  3.1e+06</td> <td>   -2.547</td> <td> 0.027</td> <td>-1.47e+07</td> <td>-1.07e+06</td>\n",
              "</tr>\n",
              "<tr>\n",
              "  <th>year</th>  <td> 3962.4505</td> <td> 1538.860</td> <td>    2.575</td> <td> 0.026</td> <td>  575.442</td> <td> 7349.459</td>\n",
              "</tr>\n",
              "</table>\n",
              "<table class=\"simpletable\">\n",
              "<tr>\n",
              "  <th>Omnibus:</th>       <td>20.123</td> <th>  Durbin-Watson:     </th> <td>   1.364</td>\n",
              "</tr>\n",
              "<tr>\n",
              "  <th>Prob(Omnibus):</th> <td> 0.000</td> <th>  Jarque-Bera (JB):  </th> <td>  17.555</td>\n",
              "</tr>\n",
              "<tr>\n",
              "  <th>Skew:</th>          <td> 2.022</td> <th>  Prob(JB):          </th> <td>0.000154</td>\n",
              "</tr>\n",
              "<tr>\n",
              "  <th>Kurtosis:</th>      <td> 7.006</td> <th>  Cond. No.          </th> <td>1.08e+06</td>\n",
              "</tr>\n",
              "</table><br/><br/>Warnings:<br/>[1] Standard Errors assume that the covariance matrix of the errors is correctly specified.<br/>[2] The condition number is large, 1.08e+06. This might indicate that there are<br/>strong multicollinearity or other numerical problems."
            ]
          },
          "metadata": {},
          "execution_count": 29
        }
      ]
    },
    {
      "cell_type": "code",
      "source": [
        "# Predict values\n",
        "births_swiss_pred = swiss1.predict()\n",
        "\n",
        "# Plot regression against actual data\n",
        "plt.figure(figsize=(12, 6))\n",
        "plt.plot(swiss_deliv['year'], swiss_deliv['Number of deliveries'], 'o')           # scatter plot showing actual data\n",
        "plt.plot(swiss_deliv['year'], births_swiss_pred, 'r', linewidth=2)   # regression line\n",
        "plt.xlabel('year')\n",
        "plt.ylabel('Number of deliveries')\n",
        "plt.title('Number of deliveries in Switzerland')\n",
        "\n",
        "plt.show()"
      ],
      "metadata": {
        "colab": {
          "base_uri": "https://localhost:8080/",
          "height": 403
        },
        "id": "L7mimJ-riGef",
        "outputId": "bf41ef9c-3c26-4011-dfcd-7178465a1afc"
      },
      "execution_count": null,
      "outputs": [
        {
          "output_type": "display_data",
          "data": {
            "text/plain": [
              "<Figure size 864x432 with 1 Axes>"
            ],
            "image/png": "[encoded data removed]"
          },
          "metadata": {}
        }
      ]
    },
    {
      "cell_type": "markdown",
      "source": [
        "number of  c section  prediction"
      ],
      "metadata": {
        "id": "vMLiyOOBgzQ3"
      }
    },
    {
      "cell_type": "code",
      "source": [
        "y = swiss_deliv['Number of cesarean sections']\n",
        "X = sm.add_constant(swiss_deliv['year'])\n",
        "\n",
        "swiss2 = sm.OLS(y, X).fit()\n",
        "\n",
        "print(\"Coefficients\", swiss2.params, sep = \"\\n\")"
      ],
      "metadata": {
        "colab": {
          "base_uri": "https://localhost:8080/"
        },
        "id": "pTrGV40OgoVl",
        "outputId": "6df0712c-dcef-4c71-87a4-dde7496e24b4"
      },
      "execution_count": null,
      "outputs": [
        {
          "output_type": "stream",
          "name": "stdout",
          "text": [
            "Coefficients\n",
            "const   -2486248.8132\n",
            "year        1249.3956\n",
            "dtype: float64\n"
          ]
        },
        {
          "output_type": "stream",
          "name": "stderr",
          "text": [
            "/usr/local/lib/python3.7/dist-packages/statsmodels/tsa/tsatools.py:117: FutureWarning: In a future version of pandas all arguments of concat except for the argument 'objs' will be keyword-only\n",
            "  x = pd.concat(x[::order], 1)\n"
          ]
        }
      ]
    },
    {
      "cell_type": "code",
      "source": [
        "swiss2.summary()"
      ],
      "metadata": {
        "colab": {
          "base_uri": "https://localhost:8080/",
          "height": 505
        },
        "id": "LQzmf2_UhSKM",
        "outputId": "bc7aa140-b229-48ac-c8b2-5bbecf98cd9a"
      },
      "execution_count": null,
      "outputs": [
        {
          "output_type": "stream",
          "name": "stderr",
          "text": [
            "/usr/local/lib/python3.7/dist-packages/scipy/stats/stats.py:1535: UserWarning: kurtosistest only valid for n>=20 ... continuing anyway, n=13\n",
            "  \"anyway, n=%i\" % int(n))\n"
          ]
        },
        {
          "output_type": "execute_result",
          "data": {
            "text/plain": [
              "<class 'statsmodels.iolib.summary.Summary'>\n",
              "\"\"\"\n",
              "                                 OLS Regression Results                                \n",
              "=======================================================================================\n",
              "Dep. Variable:     Number of cesarean sections   R-squared:                       0.382\n",
              "Model:                                     OLS   Adj. R-squared:                  0.326\n",
              "Method:                          Least Squares   F-statistic:                     6.793\n",
              "Date:                         Tue, 26 Apr 2022   Prob (F-statistic):             0.0244\n",
              "Time:                                 07:24:39   Log-Likelihood:                -131.43\n",
              "No. Observations:                           13   AIC:                             266.9\n",
              "Df Residuals:                               11   BIC:                             268.0\n",
              "Df Model:                                    1                                         \n",
              "Covariance Type:                     nonrobust                                         \n",
              "==============================================================================\n",
              "                 coef    std err          t      P>|t|      [0.025      0.975]\n",
              "------------------------------------------------------------------------------\n",
              "const      -2.486e+06   9.65e+05     -2.576      0.026   -4.61e+06   -3.62e+05\n",
              "year        1249.3956    479.371      2.606      0.024     194.308    2304.484\n",
              "==============================================================================\n",
              "Omnibus:                       19.376   Durbin-Watson:                   1.439\n",
              "Prob(Omnibus):                  0.000   Jarque-Bera (JB):               16.621\n",
              "Skew:                           1.943   Prob(JB):                     0.000246\n",
              "Kurtosis:                       6.947   Cond. No.                     1.08e+06\n",
              "==============================================================================\n",
              "\n",
              "Warnings:\n",
              "[1] Standard Errors assume that the covariance matrix of the errors is correctly specified.\n",
              "[2] The condition number is large, 1.08e+06. This might indicate that there are\n",
              "strong multicollinearity or other numerical problems.\n",
              "\"\"\""
            ],
            "text/html": [
              "<table class=\"simpletable\">\n",
              "<caption>OLS Regression Results</caption>\n",
              "<tr>\n",
              "  <th>Dep. Variable:</th>    <td>Number of cesarean sections</td> <th>  R-squared:         </th> <td>   0.382</td>\n",
              "</tr>\n",
              "<tr>\n",
              "  <th>Model:</th>                        <td>OLS</td>             <th>  Adj. R-squared:    </th> <td>   0.326</td>\n",
              "</tr>\n",
              "<tr>\n",
              "  <th>Method:</th>                  <td>Least Squares</td>        <th>  F-statistic:       </th> <td>   6.793</td>\n",
              "</tr>\n",
              "<tr>\n",
              "  <th>Date:</th>                  <td>Tue, 26 Apr 2022</td>       <th>  Prob (F-statistic):</th>  <td>0.0244</td> \n",
              "</tr>\n",
              "<tr>\n",
              "  <th>Time:</th>                      <td>07:24:39</td>           <th>  Log-Likelihood:    </th> <td> -131.43</td>\n",
              "</tr>\n",
              "<tr>\n",
              "  <th>No. Observations:</th>           <td>    13</td>            <th>  AIC:               </th> <td>   266.9</td>\n",
              "</tr>\n",
              "<tr>\n",
              "  <th>Df Residuals:</th>               <td>    11</td>            <th>  BIC:               </th> <td>   268.0</td>\n",
              "</tr>\n",
              "<tr>\n",
              "  <th>Df Model:</th>                   <td>     1</td>            <th>                     </th>     <td> </td>   \n",
              "</tr>\n",
              "<tr>\n",
              "  <th>Covariance Type:</th>           <td>nonrobust</td>          <th>                     </th>     <td> </td>   \n",
              "</tr>\n",
              "</table>\n",
              "<table class=\"simpletable\">\n",
              "<tr>\n",
              "    <td></td>       <th>coef</th>     <th>std err</th>      <th>t</th>      <th>P>|t|</th>  <th>[0.025</th>    <th>0.975]</th>  \n",
              "</tr>\n",
              "<tr>\n",
              "  <th>const</th> <td>-2.486e+06</td> <td> 9.65e+05</td> <td>   -2.576</td> <td> 0.026</td> <td>-4.61e+06</td> <td>-3.62e+05</td>\n",
              "</tr>\n",
              "<tr>\n",
              "  <th>year</th>  <td> 1249.3956</td> <td>  479.371</td> <td>    2.606</td> <td> 0.024</td> <td>  194.308</td> <td> 2304.484</td>\n",
              "</tr>\n",
              "</table>\n",
              "<table class=\"simpletable\">\n",
              "<tr>\n",
              "  <th>Omnibus:</th>       <td>19.376</td> <th>  Durbin-Watson:     </th> <td>   1.439</td>\n",
              "</tr>\n",
              "<tr>\n",
              "  <th>Prob(Omnibus):</th> <td> 0.000</td> <th>  Jarque-Bera (JB):  </th> <td>  16.621</td>\n",
              "</tr>\n",
              "<tr>\n",
              "  <th>Skew:</th>          <td> 1.943</td> <th>  Prob(JB):          </th> <td>0.000246</td>\n",
              "</tr>\n",
              "<tr>\n",
              "  <th>Kurtosis:</th>      <td> 6.947</td> <th>  Cond. No.          </th> <td>1.08e+06</td>\n",
              "</tr>\n",
              "</table><br/><br/>Warnings:<br/>[1] Standard Errors assume that the covariance matrix of the errors is correctly specified.<br/>[2] The condition number is large, 1.08e+06. This might indicate that there are<br/>strong multicollinearity or other numerical problems."
            ]
          },
          "metadata": {},
          "execution_count": 32
        }
      ]
    },
    {
      "cell_type": "code",
      "source": [
        "# Predict values\n",
        "csec_swiss_pred = swiss2.predict()\n",
        "\n",
        "# Plot regression against actual data\n",
        "plt.figure(figsize=(12, 6))\n",
        "plt.plot(swiss_deliv['year'], swiss_deliv['Number of cesarean sections'], 'o')           # scatter plot showing actual data\n",
        "plt.plot(swiss_deliv['year'], csec_swiss_pred, 'r', linewidth=2)   # regression line\n",
        "plt.xlabel('year')\n",
        "plt.ylabel('Number of deliveries')\n",
        "plt.title('Number of c-sections in Switzerland')\n",
        "\n",
        "plt.show()"
      ],
      "metadata": {
        "colab": {
          "base_uri": "https://localhost:8080/",
          "height": 403
        },
        "id": "WaD6XvaViH1C",
        "outputId": "066cbbad-e818-4769-897c-c270c182dc8d"
      },
      "execution_count": null,
      "outputs": [
        {
          "output_type": "display_data",
          "data": {
            "text/plain": [
              "<Figure size 864x432 with 1 Axes>"
            ],
            "image/png": "[encoded data removed]"
          },
          "metadata": {}
        }
      ]
    }
  ]
}